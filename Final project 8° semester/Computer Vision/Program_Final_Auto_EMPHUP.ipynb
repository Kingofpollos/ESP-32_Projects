{
 "cells": [
  {
   "cell_type": "code",
   "execution_count": null,
   "metadata": {},
   "outputs": [],
   "source": [
    "import serial # import Serial Library \n",
    "import time\n",
    "import cv2 #Import opencv\n",
    "import EMPHUP_Lib_1"
   ]
  },
  {
   "cell_type": "code",
   "execution_count": null,
   "metadata": {},
   "outputs": [],
   "source": [
    "arduinoData = serial.Serial('com3', 115200) #Connect to ESP32\n",
    "mensaje = '2.7, 2.7, 0, 0, 1, 1, 0\\n'\n",
    "arduinoData.write(bytes(mensaje, 'utf-8')) #Servo, motor, LeftLed, RightLed, TOKYO, Autom, Vel fija\n",
    "arduinoData.flush()"
   ]
  },
  {
   "cell_type": "code",
   "execution_count": null,
   "metadata": {},
   "outputs": [],
   "source": [
    "current_time = 0.0\n",
    "prev_time = 0.0\n",
    "dt_ms = 80.0/1000.0"
   ]
  },
  {
   "cell_type": "code",
   "execution_count": null,
   "metadata": {},
   "outputs": [],
   "source": [
    "#Connect to cel and configure settings\n",
    "thres = 0.45\n",
    "# cap = cv2.VideoCapture(0)\n",
    "cap = cv2.VideoCapture('http://192.168.1.185:8080/videofeed')\n",
    "cap.set(3,1280)\n",
    "cap.set(4,720)\n",
    "cap.set(10,70)"
   ]
  },
  {
   "cell_type": "code",
   "execution_count": null,
   "metadata": {},
   "outputs": [],
   "source": [
    "#Import label names object detection\n",
    "classNames = []\n",
    "classFile = 'coco.names'\n",
    "with open(classFile,'rt') as f:\n",
    "    classNames = f.read().rstrip('\\n').split('\\n')"
   ]
  },
  {
   "cell_type": "code",
   "execution_count": null,
   "metadata": {},
   "outputs": [],
   "source": [
    "#Set configuration\n",
    "configPath = \"ssd_mobilenet_v3_large_coco_2020_01_14.pbtxt\"\n",
    "weightsPath = \"frozen_inference_graph.pb\"\n",
    "\n",
    "#Load the neural network\n",
    "net = cv2.dnn_DetectionModel(weightsPath,configPath)\n",
    "net.setInputSize(320,320).setInputScale(1.0/ 127.5).setInputMean((127.5, 127.5, 127.5)).setInputSwapRB(True)"
   ]
  },
  {
   "cell_type": "code",
   "execution_count": null,
   "metadata": {},
   "outputs": [],
   "source": [
    "#Variables de bt\n",
    "i = 0\n",
    "readString = \"\"\n",
    "readList = []\n",
    "iterator = 0\n",
    "num_iter = 300\n",
    "Motor = 2.7\n",
    "ServoM = 2.7\n",
    "Left = False\n",
    "Right = False\n",
    "Stop = False\n",
    "Forward = True\n",
    "prom_dist = 0.0"
   ]
  },
  {
   "cell_type": "code",
   "execution_count": null,
   "metadata": {
    "scrolled": true
   },
   "outputs": [],
   "source": [
    "current_time = time.time()\n",
    "while True:\n",
    "    left = []\n",
    "    center = []\n",
    "    right = []\n",
    "\n",
    "    success,img = cap.read()\n",
    "    cv2.line(img, (240,0), (240,480), color=(100,100,0), thickness=1)\n",
    "    cv2.line(img, (480,0), (480,480), color=(100,100,0), thickness=1)\n",
    "    classIds, confs, bbox = net.detect(img,confThreshold=thres)\n",
    "\n",
    "    #Marcado de cajas y lineas en la imagen\n",
    "    if len(classIds) != 0:\n",
    "        for classId, confidence,box in zip(classIds.flatten(),confs.flatten(),bbox):\n",
    "            cv2.rectangle(img,box,color=(0,255,0),thickness=1)\n",
    "            cv2.putText(img,(classNames[classId-1].upper()+' '+str(round(confidence*100,2))),(box[0]+10,box[1]+30),\n",
    "                        cv2.FONT_HERSHEY_COMPLEX,1,(255,100,0),2)\n",
    "            if (box[0]<240):\n",
    "                left.append(box[0])\n",
    "            elif (240<=box[0]<480):\n",
    "                center.append(box[0])\n",
    "            else:\n",
    "                right.append(box[0])\n",
    "    if img is not None:\n",
    "        cv2.imshow(\"Output\",img)\n",
    "    if cv2.waitKey(1) & 0xFF == ord('q'):\n",
    "        break\n",
    "                    \n",
    "    #Bt data\n",
    "    while(arduinoData.inWaiting()==0): #Wait here until there is data    \n",
    "        pass #do nothing\n",
    "    readString = arduinoData.readline().decode(\"utf-8\")\n",
    "    readList = readString.split(',')\n",
    "    for num in range(6):\n",
    "        readList[num] = float(readList[num])\n",
    "    print(readList)\n",
    "#     mensaje = '{}, {}, 0, 0, 0, 1, 0\\n'.format(2.7, 2.7)\n",
    "#     arduinoData.write(bytes(mensaje, 'utf-8'))\n",
    "        \n",
    "    prom_dist = (readList[1]+readList[2]+readList[3]) / 3\n",
    "        \n",
    "    if(((17 in classIds) or (16 in classIds) or (3 in classIds) or (0 in classIds) or (12 in classIds)) and (prom_dist <= 60)):\n",
    "        Stop = True\n",
    "    elif((1 in classIds) and (prom_dist <= 60)):\n",
    "        Left = True\n",
    "    elif((2 in classIds) and (prom_dist <= 60)):\n",
    "        Right = True\n",
    "    else:\n",
    "        Forward = True\n",
    "        \n",
    "    if((not(17 in classIds) and not(16 in classIds) and not(3 in classIds) and not(0 in classIds) and not(12 in classIds))):\n",
    "        Stop = False\n",
    "    elif(not(1 in classIds)):\n",
    "        Left = True\n",
    "    elif(not(2 in classIds)):\n",
    "        Right = True\n",
    "        \n",
    "    if(Stop == True) and (iterator < num_iter):\n",
    "        ServoM, Motor, iterator = EMPHUP_Lib_1.Stop(iterator, num_iter)\n",
    "        Left = False\n",
    "        Right = False\n",
    "        Forward = False\n",
    "    elif(Left == True) and (iterator < num_iter):\n",
    "        ServoM, Motor, iterator = EMPHUP_Lib_1.Izquierda(iterator, num_iter)\n",
    "        Stop = False\n",
    "        Right = False\n",
    "        Forward = False\n",
    "    elif(Right == True) and (iterator < num_iter):\n",
    "        ServoM, Motor, iterator = EMPHUP_Lib_1.Derecha(iterator, num_iter)\n",
    "        Left = False\n",
    "        Stop = False\n",
    "        Forward = False\n",
    "    elif(iterator == num_iter):\n",
    "        iterator = 0\n",
    "    else:\n",
    "        ServoM, Motor = EMPHUP_Lib_1.Derecho()\n",
    "        Left = False\n",
    "        Right = False\n",
    "        Stop = False\n",
    "        \n",
    "    print(Stop, Left, Right, Forward, iterator)\n",
    "    print(classIds)\n",
    "    \n",
    "    mensaje = '{}, {}, 0, 0, 0, 1, 0\\n'.format(ServoM, Motor)\n",
    "    arduinoData.write(bytes(mensaje, 'utf-8')) #Servo, motor, LeftLed, RightLed, TOKYO, Autom, Vel fija\n",
    "    arduinoData.flush()\n",
    "        \n",
    "cap.release()\n",
    "\n",
    "cv2.destroyAllWindows()"
   ]
  },
  {
   "cell_type": "code",
   "execution_count": null,
   "metadata": {},
   "outputs": [],
   "source": [
    "arduinoData.close()"
   ]
  }
 ],
 "metadata": {
  "kernelspec": {
   "display_name": "Python 3",
   "language": "python",
   "name": "python3"
  },
  "language_info": {
   "codemirror_mode": {
    "name": "ipython",
    "version": 3
   },
   "file_extension": ".py",
   "mimetype": "text/x-python",
   "name": "python",
   "nbconvert_exporter": "python",
   "pygments_lexer": "ipython3",
   "version": "3.8.8"
  }
 },
 "nbformat": 4,
 "nbformat_minor": 4
}
